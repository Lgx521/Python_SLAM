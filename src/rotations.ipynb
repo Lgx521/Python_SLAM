{
 "cells": [
  {
   "cell_type": "markdown",
   "id": "9bdb92ba",
   "metadata": {},
   "source": [
    "# Lie Algebras calculation in Python"
   ]
  },
  {
   "cell_type": "code",
   "execution_count": 3,
   "id": "84652d7e",
   "metadata": {},
   "outputs": [],
   "source": [
    "from scipy.spatial.transform import Rotation as R\n",
    "import numpy as np"
   ]
  },
  {
   "cell_type": "markdown",
   "id": "ceed0cbb",
   "metadata": {},
   "source": [
    "### 基本使用：创建旋转对象，叠加，作用"
   ]
  },
  {
   "cell_type": "code",
   "execution_count": null,
   "id": "0a71d6c5",
   "metadata": {},
   "outputs": [
    {
     "name": "stdout",
     "output_type": "stream",
     "text": [
      "[-1.  0.  0.]\n"
     ]
    }
   ],
   "source": [
    "# 旋转向量\n",
    "rot_vec = [0,0,np.pi/2]\n",
    "# 旋转矩阵\n",
    "rot_matrix = np.array([[0,-1,0],[1,0,0],[0,0,1]])\n",
    "# 四元数，默认为[x, y, z, w] 示例为绕z旋转90度\n",
    "rot_quaternion = [0, 0, np.sin(np.pi/4), np.cos(np.pi/4)]\n",
    "\n",
    "# 获得旋转的对象\n",
    "r1 = R.from_rotvec(rot_vec)\n",
    "r2 = R.from_matrix(rot_matrix)\n",
    "r3 = R.from_quat(rot_quaternion)\n",
    "\n",
    "# 多个旋转的叠加，实际效果为绕z转180度\n",
    "r = r3 * r1\n",
    "\n",
    "test_vec = (1,0,0)\n",
    "\n",
    "# apply作用此旋转\n",
    "after_rot = r.apply(test_vec)\n",
    "\n",
    "print(np.round(after_rot,3))"
   ]
  },
  {
   "cell_type": "markdown",
   "id": "915c32b8",
   "metadata": {},
   "source": [
    "### 求逆旋转"
   ]
  },
  {
   "cell_type": "code",
   "execution_count": 47,
   "id": "4982fee9",
   "metadata": {},
   "outputs": [
    {
     "name": "stdout",
     "output_type": "stream",
     "text": [
      "Identical verification\n",
      "[[1. 0. 0.]\n",
      " [0. 1. 0.]\n",
      " [0. 0. 1.]]\n",
      "\n",
      "[1. 0. 0.]\n"
     ]
    }
   ],
   "source": [
    "r_inv = r.inv()\n",
    "\n",
    "print('Identical verification')\n",
    "print((r_inv * r).as_matrix(),end='\\n\\n')\n",
    "\n",
    "inversed = r_inv.apply(after_rot)\n",
    "print(np.round(inversed,3))"
   ]
  },
  {
   "cell_type": "markdown",
   "id": "4ec194f4",
   "metadata": {},
   "source": [
    "### 不同旋转算符的转换"
   ]
  },
  {
   "cell_type": "code",
   "execution_count": 51,
   "id": "21950ea0",
   "metadata": {},
   "outputs": [
    {
     "name": "stdout",
     "output_type": "stream",
     "text": [
      "rot_mat: \n",
      "[[ 0. -1.  0.]\n",
      " [ 1.  0.  0.]\n",
      " [ 0.  0.  1.]]\n",
      "\n",
      "rot_quat: \n",
      "[0.   0.   0.71 0.71]\n",
      "\n",
      "rot_euler ('zyx', degrees): \n",
      "[-0.  0. 90.]\n",
      "rot_euler ('XYZ', degrees): \n",
      "[-0.  0. 90.]\n"
     ]
    }
   ],
   "source": [
    "# 使用as_matrix()把其他表示改变为旋转矩阵\n",
    "rot_matrix = r3.as_matrix()\n",
    "print(f\"rot_mat: \\n{np.round(rot_matrix,2)}\",end='\\n\\n')\n",
    "# 使用as_quat()把其他表示改变为四元数\n",
    "rot_quat = r1.as_quat()\n",
    "print(f\"rot_quat: \\n{np.round(rot_quat,2)}\",end='\\n\\n')\n",
    "# 使用as_euler('zyx')转换为欧拉角\n",
    "# 我们知道zyx欧拉角即为xyz固定角，于是此方法得到的为xyz固定角的结果\n",
    "rot_euler = r1.as_euler('zyx', degrees=True)\n",
    "# 使用大写字母时为外旋：绕世界坐标系即固定角\n",
    "rot_euler = r1.as_euler('XYZ', degrees=True)\n",
    "# 如下可见两种方式的计算结果是相同的\n",
    "print(f\"rot_euler ('zyx', degrees): \\n{np.round(rot_euler, 1)}\")\n",
    "print(f\"rot_euler ('XYZ', degrees): \\n{np.round(rot_euler, 1)}\")"
   ]
  },
  {
   "cell_type": "markdown",
   "id": "2f2dbf12",
   "metadata": {},
   "source": [
    "## Use `pylie` module\n",
    "Concentrate on handling SE(3), se(3), SO(3) and so(3)"
   ]
  },
  {
   "cell_type": "markdown",
   "id": "8d5c6c02",
   "metadata": {},
   "source": [
    "好的，我们来详细了解一下 **`pylie`** 这个 Python 库。\n",
    "\n",
    "`pylie` 是一个专门为 Python 设计的、用于处理 **李群 (Lie Group)** 和 **李代数 (Lie Algebra)** 的库。它的核心目标是提供一个简洁、易用的接口来表示和操作在机器人学、计算机视觉（尤其是 SLAM、三维重建）和状态估计中非常重要的几何变换，特别是 **三维旋转 SO(3)** 和 **三维刚体变换（位姿） SE(3)**。\n",
    "\n",
    "`pylie` 库正是围绕上述概念，为 SO(3) 和 SE(3) 提供了 Python 类和方法：\n",
    "\n",
    "1.  **核心类:**\n",
    "    *   `pylie.SO3`: 用于表示和操作三维旋转。\n",
    "    *   `pylie.SE3`: 用于表示和操作三维刚体变换（位姿）。\n",
    "    *   （可能也包含二维的 `SO2`, `SE2`，具体看库的实现）\n",
    "2.  **创建对象:** 可以从多种格式创建 `SO3` 和 `SE3` 对象，例如：\n",
    "    *   `SO3.from_matrix(rotation_matrix)`\n",
    "    *   `SO3.from_quaternion(quat_xyzw)` # 注意 `pylie` 通常用 [x, y, z, w] 格式\n",
    "    *   `SE3(rotation, translation)`: 用一个 `SO3` 对象和 NumPy 数组表示的平移向量构造。\n",
    "    *   `SE3.from_matrix(transformation_matrix)`: 从 4x4 齐次矩阵创建。\n",
    "3.  **核心操作 (与李理论紧密相关):**\n",
    "    *   **`exp(algebra_vector)`**: 类方法，执行指数映射。例如 `SO3.exp(so3_vec)` 或 `SE3.exp(se3_vec)`。\n",
    "    *   **`log()`**: 实例方法，执行对数映射。例如 `so3_obj.log()` 或 `se3_obj.log()`。\n",
    "    *   **`inverse()`**: 计算逆变换。\n",
    "    *   **`__mul__(other)` (即 `*` 运算符)**: 实现变换的复合。例如 `T2 * T1` 表示先应用 T1 再应用 T2。\n",
    "    *   **`act(point)`**: 将变换作用于一个点（通常是 NumPy 数组）。`T.act(p)`。\n",
    "    *   **`adjoint()`**: 计算伴随矩阵 (Adjoint)，用于在不同坐标系下转换李代数表示。\n",
    "    *   **雅可比矩阵 (Jacobians)**: `pylie` 通常也提供计算 `exp`, `log` 以及 `act` 操作相对于状态或输入的雅可比矩阵的功能，这对于基于梯度的优化至关重要。\n",
    "4.  **与 NumPy 的集成:** 底层通常使用 NumPy 进行向量和矩阵运算，方便与 Python 生态中的其他科学计算库配合。"
   ]
  },
  {
   "cell_type": "code",
   "execution_count": 11,
   "id": "96784542",
   "metadata": {},
   "outputs": [],
   "source": [
    "import pylie"
   ]
  },
  {
   "cell_type": "code",
   "execution_count": 16,
   "id": "a6c41d4a",
   "metadata": {},
   "outputs": [
    {
     "ename": "AttributeError",
     "evalue": "module 'pylie' has no attribute 'SO3'",
     "output_type": "error",
     "traceback": [
      "\u001b[0;31m---------------------------------------------------------------------------\u001b[0m",
      "\u001b[0;31mAttributeError\u001b[0m                            Traceback (most recent call last)",
      "Cell \u001b[0;32mIn[16], line 6\u001b[0m\n\u001b[1;32m      3\u001b[0m \u001b[38;5;28;01mimport\u001b[39;00m \u001b[38;5;21;01mpylie\u001b[39;00m\u001b[38;5;21;01m.\u001b[39;00m\u001b[38;5;21;01mhmanifold\u001b[39;00m\n\u001b[1;32m      5\u001b[0m so3_vec \u001b[38;5;241m=\u001b[39m np\u001b[38;5;241m.\u001b[39marray([\u001b[38;5;241m0.1\u001b[39m, \u001b[38;5;241m-\u001b[39m\u001b[38;5;241m0.2\u001b[39m, np\u001b[38;5;241m.\u001b[39mpi\u001b[38;5;241m/\u001b[39m\u001b[38;5;241m2\u001b[39m]) \u001b[38;5;66;03m# 一个 so(3) 向量\u001b[39;00m\n\u001b[0;32m----> 6\u001b[0m R1 \u001b[38;5;241m=\u001b[39m \u001b[43mpylie\u001b[49m\u001b[38;5;241;43m.\u001b[39;49m\u001b[43mSO3\u001b[49m\u001b[38;5;241m.\u001b[39mexp(so3_vec)\n\u001b[1;32m      7\u001b[0m \u001b[38;5;28mprint\u001b[39m(\u001b[38;5;124mf\u001b[39m\u001b[38;5;124m\"\u001b[39m\u001b[38;5;124mR1 (from exp): \u001b[39m\u001b[38;5;132;01m{\u001b[39;00mR1\u001b[38;5;132;01m}\u001b[39;00m\u001b[38;5;124m\"\u001b[39m) \u001b[38;5;66;03m# 打印内部表示，通常是四元数\u001b[39;00m\n\u001b[1;32m      9\u001b[0m \u001b[38;5;66;03m# (b) 从单位四元数 [x, y, z, w]\u001b[39;00m\n",
      "\u001b[0;31mAttributeError\u001b[0m: module 'pylie' has no attribute 'SO3'"
     ]
    }
   ],
   "source": [
    "# 1. 创建 SO3 对象\n",
    "# (a) 从旋转向量 (李代数 so(3)) 通过 exp 映射\n",
    "import pylie.hmanifold\n",
    "\n",
    "so3_vec = np.array([0.1, -0.2, np.pi/2]) # 一个 so(3) 向量\n",
    "R1 = pylie.SO3.exp(so3_vec)\n",
    "print(f\"R1 (from exp): {R1}\") # 打印内部表示，通常是四元数\n",
    "\n",
    "# (b) 从单位四元数 [x, y, z, w]\n",
    "quat = np.array([0, 0, np.sin(np.pi/4), np.cos(np.pi/4)]) # 绕 Z 轴 90 度\n",
    "R2 = pylie.SO3.from_quaternion(quat)\n",
    "print(f\"R2 (from quat): {R2}\")\n",
    "\n"
   ]
  },
  {
   "cell_type": "code",
   "execution_count": null,
   "id": "8462c073",
   "metadata": {},
   "outputs": [],
   "source": []
  }
 ],
 "metadata": {
  "kernelspec": {
   "display_name": "Python 3",
   "language": "python",
   "name": "python3"
  },
  "language_info": {
   "codemirror_mode": {
    "name": "ipython",
    "version": 3
   },
   "file_extension": ".py",
   "mimetype": "text/x-python",
   "name": "python",
   "nbconvert_exporter": "python",
   "pygments_lexer": "ipython3",
   "version": "3.12.4"
  }
 },
 "nbformat": 4,
 "nbformat_minor": 5
}
