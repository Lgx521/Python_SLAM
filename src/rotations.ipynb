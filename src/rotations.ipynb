{
 "cells": [
  {
   "cell_type": "markdown",
   "id": "9bdb92ba",
   "metadata": {},
   "source": [
    "# Lie Algebras calculation in Python"
   ]
  },
  {
   "cell_type": "code",
   "execution_count": null,
   "id": "84652d7e",
   "metadata": {
    "vscode": {
     "languageId": "plaintext"
    }
   },
   "outputs": [],
   "source": [
    "import scipy.spatial.transform.Rotation as Rotation"
   ]
  }
 ],
 "metadata": {
  "language_info": {
   "name": "python"
  }
 },
 "nbformat": 4,
 "nbformat_minor": 5
}
