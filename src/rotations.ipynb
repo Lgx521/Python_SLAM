{
 "cells": [
  {
   "cell_type": "markdown",
   "id": "9bdb92ba",
   "metadata": {},
   "source": [
    "# Lie Algebras calculation in Python"
   ]
  },
  {
   "cell_type": "code",
   "execution_count": 29,
   "id": "84652d7e",
   "metadata": {},
   "outputs": [],
   "source": [
    "from scipy.spatial.transform import Rotation as R\n",
    "import numpy as np"
   ]
  },
  {
   "cell_type": "markdown",
   "id": "ceed0cbb",
   "metadata": {},
   "source": [
    "### 基本使用：创建旋转对象，叠加，作用"
   ]
  },
  {
   "cell_type": "code",
   "execution_count": null,
   "id": "0a71d6c5",
   "metadata": {},
   "outputs": [
    {
     "name": "stdout",
     "output_type": "stream",
     "text": [
      "[-1.  0.  0.]\n"
     ]
    }
   ],
   "source": [
    "# 旋转向量\n",
    "rot_vec = [0,0,np.pi/2]\n",
    "# 旋转矩阵\n",
    "rot_matrix = np.array([[0,-1,0],[1,0,0],[0,0,1]])\n",
    "# 四元数，默认为[x, y, z, w] 示例为绕z旋转90度\n",
    "rot_quaternion = [0, 0, np.sin(np.pi/4), np.cos(np.pi/4)]\n",
    "\n",
    "# 获得旋转的对象\n",
    "r1 = R.from_rotvec(rot_vec)\n",
    "r2 = R.from_matrix(rot_matrix)\n",
    "r3 = R.from_quat(rot_quaternion)\n",
    "\n",
    "# 多个旋转的叠加，实际效果为绕z转180度\n",
    "r = r3 * r1\n",
    "\n",
    "test_vec = (1,0,0)\n",
    "\n",
    "# apply作用此旋转\n",
    "after_rot = r.apply(test_vec)\n",
    "\n",
    "print(np.round(after_rot,3))"
   ]
  },
  {
   "cell_type": "markdown",
   "id": "915c32b8",
   "metadata": {},
   "source": [
    "### 求逆旋转"
   ]
  },
  {
   "cell_type": "code",
   "execution_count": 47,
   "id": "4982fee9",
   "metadata": {},
   "outputs": [
    {
     "name": "stdout",
     "output_type": "stream",
     "text": [
      "Identical verification\n",
      "[[1. 0. 0.]\n",
      " [0. 1. 0.]\n",
      " [0. 0. 1.]]\n",
      "\n",
      "[1. 0. 0.]\n"
     ]
    }
   ],
   "source": [
    "r_inv = r.inv()\n",
    "\n",
    "print('Identical verification')\n",
    "print((r_inv * r).as_matrix(),end='\\n\\n')\n",
    "\n",
    "inversed = r_inv.apply(after_rot)\n",
    "print(np.round(inversed,3))"
   ]
  },
  {
   "cell_type": "markdown",
   "id": "4ec194f4",
   "metadata": {},
   "source": [
    "### 不同旋转算符的转换"
   ]
  },
  {
   "cell_type": "code",
   "execution_count": 51,
   "id": "21950ea0",
   "metadata": {},
   "outputs": [
    {
     "name": "stdout",
     "output_type": "stream",
     "text": [
      "rot_mat: \n",
      "[[ 0. -1.  0.]\n",
      " [ 1.  0.  0.]\n",
      " [ 0.  0.  1.]]\n",
      "\n",
      "rot_quat: \n",
      "[0.   0.   0.71 0.71]\n",
      "\n",
      "rot_euler ('zyx', degrees): \n",
      "[-0.  0. 90.]\n",
      "rot_euler ('XYZ', degrees): \n",
      "[-0.  0. 90.]\n"
     ]
    }
   ],
   "source": [
    "# 使用as_matrix()把其他表示改变为旋转矩阵\n",
    "rot_matrix = r3.as_matrix()\n",
    "print(f\"rot_mat: \\n{np.round(rot_matrix,2)}\",end='\\n\\n')\n",
    "# 使用as_quat()把其他表示改变为四元数\n",
    "rot_quat = r1.as_quat()\n",
    "print(f\"rot_quat: \\n{np.round(rot_quat,2)}\",end='\\n\\n')\n",
    "# 使用as_euler('zyx')转换为欧拉角\n",
    "# 我们知道zyx欧拉角即为xyz固定角，于是此方法得到的为xyz固定角的结果\n",
    "rot_euler = r1.as_euler('zyx', degrees=True)\n",
    "# 使用大写字母时为外旋：绕世界坐标系即固定角\n",
    "rot_euler = r1.as_euler('XYZ', degrees=True)\n",
    "# 如下可见两种方式的计算结果是相同的\n",
    "print(f\"rot_euler ('zyx', degrees): \\n{np.round(rot_euler, 1)}\")\n",
    "print(f\"rot_euler ('XYZ', degrees): \\n{np.round(rot_euler, 1)}\")"
   ]
  }
 ],
 "metadata": {
  "kernelspec": {
   "display_name": "Python 3",
   "language": "python",
   "name": "python3"
  },
  "language_info": {
   "codemirror_mode": {
    "name": "ipython",
    "version": 3
   },
   "file_extension": ".py",
   "mimetype": "text/x-python",
   "name": "python",
   "nbconvert_exporter": "python",
   "pygments_lexer": "ipython3",
   "version": "3.12.4"
  }
 },
 "nbformat": 4,
 "nbformat_minor": 5
}
